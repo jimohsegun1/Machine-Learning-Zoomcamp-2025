{
  "nbformat": 4,
  "nbformat_minor": 0,
  "metadata": {
    "colab": {
      "provenance": []
    },
    "kernelspec": {
      "name": "python3",
      "display_name": "Python 3"
    },
    "language_info": {
      "name": "python"
    }
  },
  "cells": [
    {
      "cell_type": "code",
      "execution_count": null,
      "metadata": {
        "id": "9xRtbGLRq28B"
      },
      "outputs": [],
      "source": [
        "import matplotlib.pyplot as plt\n",
        "import seaborn as sns\n",
        "import pandas as pd\n",
        "import numpy as np\n",
        "from sklearn.model_selection import train_test_split\n",
        "from sklearn.metrics import mean_squared_error"
      ]
    },
    {
      "cell_type": "code",
      "source": [
        "# 1) Load data\n",
        "# car_df = pd.read_csv('car_fuel_efficiency.csv', encoding='ascii')\n",
        "cars_df = pd.read_csv('car_fuel_efficiency.csv')\n",
        "print(cars_df.head())"
      ],
      "metadata": {
        "colab": {
          "base_uri": "https://localhost:8080/"
        },
        "id": "1y9HeKiRrhWw",
        "outputId": "9a91d9f5-47c5-4815-e8a7-2425de583685"
      },
      "execution_count": null,
      "outputs": [
        {
          "output_type": "stream",
          "name": "stdout",
          "text": [
            "   engine_displacement  num_cylinders  horsepower  vehicle_weight  \\\n",
            "0                  170            3.0       159.0     3413.433759   \n",
            "1                  130            5.0        97.0     3149.664934   \n",
            "2                  170            NaN        78.0     3079.038997   \n",
            "3                  220            4.0         NaN     2542.392402   \n",
            "4                  210            1.0       140.0     3460.870990   \n",
            "\n",
            "   acceleration  model_year  origin fuel_type         drivetrain  num_doors  \\\n",
            "0          17.7        2003  Europe  Gasoline    All-wheel drive        0.0   \n",
            "1          17.8        2007     USA  Gasoline  Front-wheel drive        0.0   \n",
            "2          15.1        2018  Europe  Gasoline  Front-wheel drive        0.0   \n",
            "3          20.2        2009     USA    Diesel    All-wheel drive        2.0   \n",
            "4          14.4        2009  Europe  Gasoline    All-wheel drive        2.0   \n",
            "\n",
            "   fuel_efficiency_mpg  \n",
            "0            13.231729  \n",
            "1            13.688217  \n",
            "2            14.246341  \n",
            "3            16.912736  \n",
            "4            12.488369  \n"
          ]
        }
      ]
    },
    {
      "cell_type": "code",
      "source": [
        "# Keep only needed columns\n",
        "cols = ['engine_displacement','horsepower','vehicle_weight','model_year','fuel_efficiency_mpg']\n",
        "df = cars_df[cols].copy()\n",
        "print(df.head())"
      ],
      "metadata": {
        "colab": {
          "base_uri": "https://localhost:8080/"
        },
        "id": "q8iOCgkWtOKu",
        "outputId": "ec620711-f2ab-4a3a-9d6f-9ff767b796ba"
      },
      "execution_count": null,
      "outputs": [
        {
          "output_type": "stream",
          "name": "stdout",
          "text": [
            "   engine_displacement  horsepower  vehicle_weight  model_year  \\\n",
            "0                  170       159.0     3413.433759        2003   \n",
            "1                  130        97.0     3149.664934        2007   \n",
            "2                  170        78.0     3079.038997        2018   \n",
            "3                  220         NaN     2542.392402        2009   \n",
            "4                  210       140.0     3460.870990        2009   \n",
            "\n",
            "   fuel_efficiency_mpg  \n",
            "0            13.231729  \n",
            "1            13.688217  \n",
            "2            14.246341  \n",
            "3            16.912736  \n",
            "4            12.488369  \n"
          ]
        }
      ]
    },
    {
      "cell_type": "code",
      "source": [
        "# EDA: check long tail via simple skewness\n",
        "fe = df['fuel_efficiency_mpg']\n",
        "skew_val = fe.skew()\n",
        "print(skew_val)"
      ],
      "metadata": {
        "colab": {
          "base_uri": "https://localhost:8080/"
        },
        "id": "hJN8l1gUrvHA",
        "outputId": "062c4b7d-b6a8-47bb-fc51-e463f4795824"
      },
      "execution_count": null,
      "outputs": [
        {
          "output_type": "stream",
          "name": "stdout",
          "text": [
            "-0.012062219273507929\n"
          ]
        }
      ]
    },
    {
      "cell_type": "code",
      "source": [
        "# Q1: column with missing values among selected\n",
        "na_counts = df.isna().sum()\n",
        "col_with_na = na_counts[na_counts > 0].index.tolist()\n",
        "print(col_with_na)"
      ],
      "metadata": {
        "colab": {
          "base_uri": "https://localhost:8080/"
        },
        "id": "3Ov7qIGHt3Z2",
        "outputId": "f5042d50-0c9e-46a3-a95c-d6656041d701"
      },
      "execution_count": null,
      "outputs": [
        {
          "output_type": "stream",
          "name": "stdout",
          "text": [
            "['horsepower']\n"
          ]
        }
      ]
    },
    {
      "cell_type": "code",
      "source": [
        "# Q2: median of horsepower\n",
        "hp_median = np.nanmedian(df['horsepower'].values)\n",
        "print(hp_median)"
      ],
      "metadata": {
        "colab": {
          "base_uri": "https://localhost:8080/"
        },
        "id": "4FQxZIwRuglk",
        "outputId": "134bd317-d99d-4653-fc96-f5c1338c6f35"
      },
      "execution_count": null,
      "outputs": [
        {
          "output_type": "stream",
          "name": "stdout",
          "text": [
            "149.0\n"
          ]
        }
      ]
    },
    {
      "cell_type": "code",
      "source": [
        "# Prepare split function\n",
        "def split_60_20_20(data, seed):\n",
        "    d_shuf = data.sample(frac=1.0, random_state=seed).reset_index(drop=True)\n",
        "    n = len(d_shuf)\n",
        "    n_train = int(0.6*n)\n",
        "    n_val = int(0.2*n)\n",
        "    df_train = d_shuf.iloc[:n_train]\n",
        "    df_val = d_shuf.iloc[n_train:n_train+n_val]\n",
        "    df_test = d_shuf.iloc[n_train+n_val:]\n",
        "    return df_train, df_val, df_test"
      ],
      "metadata": {
        "id": "AxAkxbMWu1TC"
      },
      "execution_count": null,
      "outputs": []
    },
    {
      "cell_type": "code",
      "source": [
        "# Helper to train OLS closed-form (no reg)\n",
        "def train_predict_ols(X_train, y_train, X_val):\n",
        "    Xb = np.column_stack([np.ones(len(X_train)), X_train])\n",
        "    Xvb = np.column_stack([np.ones(len(X_val)), X_val])\n",
        "    w = np.linalg.pinv(Xb.T.dot(Xb)).dot(Xb.T).dot(y_train)\n",
        "    y_pred = Xvb.dot(w)\n",
        "    return y_pred"
      ],
      "metadata": {
        "id": "9nVynrecvBwH"
      },
      "execution_count": null,
      "outputs": []
    },
    {
      "cell_type": "code",
      "source": [
        "# Helper ridge (reg r)\n",
        "def train_predict_ridge(X_train, y_train, X_val, r):\n",
        "    Xb = np.column_stack([np.ones(len(X_train)), X_train])\n",
        "    Xvb = np.column_stack([np.ones(len(X_val)), X_val])\n",
        "    I = np.eye(Xb.shape[1])\n",
        "    I[0,0] = 0.0\n",
        "    w = np.linalg.pinv(Xb.T.dot(Xb) + r*I).dot(Xb.T).dot(y_train)\n",
        "    y_pred = Xvb.dot(w)\n",
        "    return y_pred"
      ],
      "metadata": {
        "id": "WS3fy8qDvIiB"
      },
      "execution_count": null,
      "outputs": []
    },
    {
      "cell_type": "code",
      "source": [
        "# Split with seed 42\n",
        "train_df, val_df, test_df = split_60_20_20(df, 42)\n",
        "print(len(train_df))\n",
        "print(len(val_df))\n",
        "print(len(test_df))"
      ],
      "metadata": {
        "colab": {
          "base_uri": "https://localhost:8080/"
        },
        "id": "jPYiM_TRvPM1",
        "outputId": "60047b5b-8bde-4907-cd38-33a9765067a5"
      },
      "execution_count": null,
      "outputs": [
        {
          "output_type": "stream",
          "name": "stdout",
          "text": [
            "5822\n",
            "1940\n",
            "1942\n"
          ]
        }
      ]
    },
    {
      "cell_type": "code",
      "source": [
        "# Features/target\n",
        "feat_cols = ['engine_displacement','horsepower','vehicle_weight','model_year']"
      ],
      "metadata": {
        "id": "Dcpp8SgYvUer"
      },
      "execution_count": null,
      "outputs": []
    },
    {
      "cell_type": "code",
      "source": [
        "# Q3: missing handling for the column(s) with NA (apply just to horsepower if that's the one)\n",
        "# Option A: fill with 0\n",
        "train_A = train_df.copy()\n",
        "val_A = val_df.copy()\n",
        "for c in feat_cols:\n",
        "    if train_A[c].isna().any() or val_A[c].isna().any():\n",
        "        train_A[c] = train_A[c].fillna(0)\n",
        "        val_A[c] = val_A[c].fillna(0)\n",
        "XA = train_A[feat_cols].values\n",
        "ya = train_A['fuel_efficiency_mpg'].values\n",
        "XvA = val_A[feat_cols].values\n",
        "predA = train_predict_ols(XA, ya, XvA)\n",
        "rmse_A = np.sqrt(mean_squared_error(val_A['fuel_efficiency_mpg'].values, predA))\n",
        "print(rmse_A)"
      ],
      "metadata": {
        "colab": {
          "base_uri": "https://localhost:8080/"
        },
        "id": "qByZXADKvigT",
        "outputId": "43ec12bc-d947-4ffe-9876-c7889d4b5727"
      },
      "execution_count": null,
      "outputs": [
        {
          "output_type": "stream",
          "name": "stdout",
          "text": [
            "0.5171866959591351\n"
          ]
        }
      ]
    },
    {
      "cell_type": "code",
      "source": [
        "# Option B: fill with mean (compute on train only)\n",
        "train_B = train_df.copy()\n",
        "val_B = val_df.copy()\n",
        "for c in feat_cols:\n",
        "    if train_B[c].isna().any() or val_B[c].isna().any():\n",
        "        m = train_B[c].mean()\n",
        "        train_B[c] = train_B[c].fillna(m)\n",
        "        val_B[c] = val_B[c].fillna(m)\n",
        "XB = train_B[feat_cols].values\n",
        "yb = train_B['fuel_efficiency_mpg'].values\n",
        "XvB = val_B[feat_cols].values\n",
        "predB = train_predict_ols(XB, yb, XvB)\n",
        "rmse_B = np.sqrt(mean_squared_error(val_B['fuel_efficiency_mpg'].values, predB))\n",
        "print(rmse_B)"
      ],
      "metadata": {
        "id": "vJldXut_vwcS",
        "outputId": "254467ae-c5d2-40eb-c69d-120b44574bcb",
        "colab": {
          "base_uri": "https://localhost:8080/"
        }
      },
      "execution_count": null,
      "outputs": [
        {
          "output_type": "stream",
          "name": "stdout",
          "text": [
            "0.46353660135009683\n"
          ]
        }
      ]
    },
    {
      "cell_type": "code",
      "source": [
        "# Q4: ridge with r list, fill NAs with 0 as instructed\n",
        "r_list = [0, 0.01, 0.1, 1, 5, 10, 100]\n",
        "train_Z = train_df.copy()\n",
        "val_Z = val_df.copy()\n",
        "for c in feat_cols:\n",
        "    train_Z[c] = train_Z[c].fillna(0)\n",
        "    val_Z[c] = val_Z[c].fillna(0)\n",
        "XZ_tr = train_Z[feat_cols].values\n",
        "yZ_tr = train_Z['fuel_efficiency_mpg'].values\n",
        "XZ_val = val_Z[feat_cols].values\n",
        "rmse_by_r = []\n",
        "for r in r_list:\n",
        "    yp = train_predict_ridge(XZ_tr, yZ_tr, XZ_val, r)\n",
        "    rmse = np.sqrt(mean_squared_error(val_Z['fuel_efficiency_mpg'].values, yp))\n",
        "    rmse_by_r.append((r, rmse))\n",
        "print(rmse_by_r)"
      ],
      "metadata": {
        "colab": {
          "base_uri": "https://localhost:8080/"
        },
        "id": "DBMiYprP9Eqp",
        "outputId": "28bf2bd3-6333-4054-baeb-b1533741b412"
      },
      "execution_count": null,
      "outputs": [
        {
          "output_type": "stream",
          "name": "stdout",
          "text": [
            "[(0, np.float64(0.5171866959591351)), (0.01, np.float64(0.5171866960679854)), (0.1, np.float64(0.5171866960525745)), (1, np.float64(0.5171866967546045)), (5, np.float64(0.5171866998844799)), (10, np.float64(0.5171867036845023)), (100, np.float64(0.5171867731528449))]\n"
          ]
        }
      ]
    },
    {
      "cell_type": "code",
      "source": [
        "# Q5: seeds 0-9, OLS, fillna 0, collect val RMSE and std\n",
        "val_rmses = []\n",
        "for seed in range(10):\n",
        "    tr, va, te = split_60_20_20(df, seed)\n",
        "    for c in feat_cols:\n",
        "        tr[c] = tr[c].fillna(0)\n",
        "        va[c] = va[c].fillna(0)\n",
        "    Xtr = tr[feat_cols].values\n",
        "    ytr = tr['fuel_efficiency_mpg'].values\n",
        "    Xva = va[feat_cols].values\n",
        "    yva = va['fuel_efficiency_mpg'].values\n",
        "    ypred = train_predict_ols(Xtr, ytr, Xva)\n",
        "    rmse = np.sqrt(mean_squared_error(yva, ypred))\n",
        "    val_rmses.append(rmse)\n",
        "std_scores = float(np.std(val_rmses))\n",
        "print(val_rmses)\n",
        "print(std_scores)"
      ],
      "metadata": {
        "colab": {
          "base_uri": "https://localhost:8080/"
        },
        "id": "xDSFtNYd9Xgv",
        "outputId": "bfe80269-b4a8-496b-d2da-6e7517c98b53"
      },
      "execution_count": null,
      "outputs": [
        {
          "output_type": "stream",
          "name": "stdout",
          "text": [
            "[np.float64(0.5210993169564573), np.float64(0.5218422384203811), np.float64(0.5230384518938906), np.float64(0.5161215338335037), np.float64(0.5111869531897599), np.float64(0.5286833856280085), np.float64(0.5322418918226826), np.float64(0.5095258234083074), np.float64(0.5149083790071103), np.float64(0.5131330922229631)]\n",
            "0.0071263191085892555\n"
          ]
        }
      ]
    },
    {
      "cell_type": "code",
      "source": [
        "# Q6: Split with seed 9, combine train+val, fillna(0), train ridge with r=0.001, evaluate RMSE on test\n",
        "# Steps:\n",
        "# - Load CSV\n",
        "# - Select required columns\n",
        "# - Train/val/test split with seed 9 (60/20/20)\n",
        "# - Combine train+val for training\n",
        "# - Impute 0 for missing\n",
        "# - Standardize features (fit on train+val only)\n",
        "# - Ridge with alpha=0.001 (r)\n",
        "# - Predict on test and compute RMSE\n",
        "\n",
        "import pandas as pd\n",
        "import numpy as np\n",
        "from sklearn.model_selection import train_test_split\n",
        "from sklearn.preprocessing import StandardScaler\n",
        "from sklearn.linear_model import Ridge\n",
        "from sklearn.metrics import mean_squared_error\n",
        "\n",
        "# Load data\n",
        "df = pd.read_csv('car_fuel_efficiency.csv', encoding='ascii')\n",
        "cols = ['engine_displacement','horsepower','vehicle_weight','model_year','fuel_efficiency_mpg']\n",
        "df2 = df[cols].copy()\n",
        "\n",
        "# Split with seed 9\n",
        "train_val_df, test_df = train_test_split(df2, test_size=0.2, random_state=9, shuffle=True)\n",
        "train_df, val_df = train_test_split(train_val_df, test_size=0.25, random_state=9, shuffle=True)\n",
        "\n",
        "# Combine train+val\n",
        "comb_df = pd.concat([train_df, val_df], axis=0)\n",
        "\n",
        "# Separate features/target\n",
        "feat_cols = ['engine_displacement','horsepower','vehicle_weight','model_year']\n",
        "X_train = comb_df[feat_cols].fillna(0).values\n",
        "y_train = comb_df['fuel_efficiency_mpg'].values\n",
        "X_test = test_df[feat_cols].fillna(0).values\n",
        "y_test = test_df['fuel_efficiency_mpg'].values\n",
        "\n",
        "# Scale features\n",
        "scaler = StandardScaler()\n",
        "X_train_s = scaler.fit_transform(X_train)\n",
        "X_test_s = scaler.transform(X_test)\n",
        "\n",
        "# Ridge with r=0.001\n",
        "model = Ridge(alpha=0.001, random_state=9)\n",
        "model.fit(X_train_s, y_train)\n",
        "\n",
        "# Predict and RMSE\n",
        "pred = model.predict(X_test_s)\n",
        "rmse = np.sqrt(mean_squared_error(y_test, pred))\n",
        "\n",
        "print(rmse)\n",
        "print(len(comb_df))\n",
        "print(len(test_df))"
      ],
      "metadata": {
        "colab": {
          "base_uri": "https://localhost:8080/"
        },
        "id": "TM9kO-7C-i0t",
        "outputId": "4dae293a-b17d-4e61-a4bc-07b6b1cdd278"
      },
      "execution_count": null,
      "outputs": [
        {
          "output_type": "stream",
          "name": "stdout",
          "text": [
            "0.5210336117018122\n",
            "7763\n",
            "1941\n"
          ]
        }
      ]
    }
  ]
}