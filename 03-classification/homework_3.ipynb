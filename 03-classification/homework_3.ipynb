{
  "nbformat": 4,
  "nbformat_minor": 0,
  "metadata": {
    "colab": {
      "provenance": []
    },
    "kernelspec": {
      "name": "python3",
      "display_name": "Python 3"
    },
    "language_info": {
      "name": "python"
    }
  },
  "cells": [
    {
      "cell_type": "markdown",
      "source": [
        "## Homework\n",
        "\n",
        "> Note: sometimes your answer doesn't match one of the options exactly.\n",
        "> That's fine.\n",
        "> Select the option that's closest to your solution.\n",
        "\n",
        "\n",
        "### Dataset\n",
        "\n",
        "In this homework, we will use the lead scoring dataset Bank Marketing dataset. Download it from [here](https://raw.githubusercontent.com/alexeygrigorev/datasets/master/course_lead_scoring.csv).\n",
        "\n",
        "Or you can do it with `wget`:\n",
        "\n",
        "```bash\n",
        "wget https://raw.githubusercontent.com/alexeygrigorev/datasets/master/course_lead_scoring.csv\n",
        "```\n",
        "\n",
        "In this dataset our desired target for classification task will be `converted` variable - has the client signed up to the platform or not.\n",
        "\n",
        "### Data preparation\n",
        "\n",
        "* Check if the missing values are presented in the features.\n",
        "* If there are missing values:\n",
        "    * For caterogiral features, replace them with 'NA'\n",
        "    * For numerical features, replace with with 0.0"
      ],
      "metadata": {
        "id": "lJD_Fy2jp5lb"
      }
    },
    {
      "cell_type": "code",
      "source": [
        "# Load data and check missing values, then impute per instructions, and compute mode of industry.\n",
        "# Keeping this cell focused: imports, read CSV, show head, missing summary, impute, show head after, compute mode.\n",
        "\n",
        "import pandas as pd\n",
        "import numpy as np\n",
        "\n",
        "# Read the CSV using provided encoding\n",
        "df_cls = pd.read_csv('course_lead_scoring.csv', encoding='ascii')\n",
        "\n",
        "# Display head, Here’s a quick look at the dataset head before any changes:\n",
        "print(df_cls.head())"
      ],
      "metadata": {
        "colab": {
          "base_uri": "https://localhost:8080/"
        },
        "id": "CiWvgULzNoZK",
        "outputId": "f2c90f9f-77e2-463e-cc2c-1dffe37fd446"
      },
      "execution_count": 2,
      "outputs": [
        {
          "output_type": "stream",
          "name": "stdout",
          "text": [
            "    lead_source    industry  number_of_courses_viewed  annual_income  \\\n",
            "0      paid_ads         NaN                         1        79450.0   \n",
            "1  social_media      retail                         1        46992.0   \n",
            "2        events  healthcare                         5        78796.0   \n",
            "3      paid_ads      retail                         2        83843.0   \n",
            "4      referral   education                         3        85012.0   \n",
            "\n",
            "  employment_status       location  interaction_count  lead_score  converted  \n",
            "0        unemployed  south_america                  4        0.94          1  \n",
            "1          employed  south_america                  1        0.80          0  \n",
            "2        unemployed      australia                  3        0.69          1  \n",
            "3               NaN      australia                  1        0.87          0  \n",
            "4     self_employed         europe                  3        0.62          1  \n"
          ]
        }
      ]
    },
    {
      "cell_type": "code",
      "source": [
        "# Check missing values count per column\n",
        "na_counts = df_cls.isna().sum()\n",
        "print(na_counts)"
      ],
      "metadata": {
        "colab": {
          "base_uri": "https://localhost:8080/"
        },
        "id": "OIF-Z6Y9hVoQ",
        "outputId": "7aa51268-f666-4152-e765-4738f76c2f26"
      },
      "execution_count": 3,
      "outputs": [
        {
          "output_type": "stream",
          "name": "stdout",
          "text": [
            "lead_source                 128\n",
            "industry                    134\n",
            "number_of_courses_viewed      0\n",
            "annual_income               181\n",
            "employment_status           100\n",
            "location                     63\n",
            "interaction_count             0\n",
            "lead_score                    0\n",
            "converted                     0\n",
            "dtype: int64\n"
          ]
        }
      ]
    },
    {
      "cell_type": "code",
      "source": [
        "# Identify categorical vs numerical columns\n",
        "categorical_cols = df_cls.select_dtypes(include=['object']).columns.tolist()\n",
        "numeric_cols = df_cls.select_dtypes(include=[np.number]).columns.tolist()"
      ],
      "metadata": {
        "id": "QoO7XzHiikjj"
      },
      "execution_count": 5,
      "outputs": []
    },
    {
      "cell_type": "code",
      "source": [
        "# Impute missing values as specified, filled missing categorical values with NA and numerical with 0.0.\n",
        "if len(categorical_cols) > 0:\n",
        "    df_cls[categorical_cols] = df_cls[categorical_cols].fillna('NA')\n",
        "if len(numeric_cols) > 0:\n",
        "    df_cls[numeric_cols] = df_cls[numeric_cols].fillna(0.0)"
      ],
      "metadata": {
        "id": "0AAOx7kshe--"
      },
      "execution_count": 7,
      "outputs": []
    },
    {
      "cell_type": "code",
      "source": [
        "# Show head after imputation\n",
        "print(df_cls.head())"
      ],
      "metadata": {
        "colab": {
          "base_uri": "https://localhost:8080/"
        },
        "id": "PfPTKM0WjEYi",
        "outputId": "add5bf25-8e4c-4651-d2a8-6c4d1a561195"
      },
      "execution_count": 8,
      "outputs": [
        {
          "output_type": "stream",
          "name": "stdout",
          "text": [
            "    lead_source    industry  number_of_courses_viewed  annual_income  \\\n",
            "0      paid_ads          NA                         1        79450.0   \n",
            "1  social_media      retail                         1        46992.0   \n",
            "2        events  healthcare                         5        78796.0   \n",
            "3      paid_ads      retail                         2        83843.0   \n",
            "4      referral   education                         3        85012.0   \n",
            "\n",
            "  employment_status       location  interaction_count  lead_score  converted  \n",
            "0        unemployed  south_america                  4        0.94          1  \n",
            "1          employed  south_america                  1        0.80          0  \n",
            "2        unemployed      australia                  3        0.69          1  \n",
            "3                NA      australia                  1        0.87          0  \n",
            "4     self_employed         europe                  3        0.62          1  \n"
          ]
        }
      ]
    },
    {
      "cell_type": "markdown",
      "source": [
        "### Question 1\n",
        "\n",
        "What is the most frequent observation (mode) for the column `industry`?\n",
        "\n",
        "- `NA`\n",
        "- `technology`\n",
        "- `healthcare`\n",
        "- `retail`"
      ],
      "metadata": {
        "id": "Jhf2BrISoaNL"
      }
    },
    {
      "cell_type": "code",
      "source": [
        "# 1)  Compute the most frequent observation (mode) for the column `industry`\n",
        "industry_mode_series = df_cls['industry'].mode(dropna=False)\n",
        "industry_mode = industry_mode_series.iloc[0] if len(industry_mode_series) > 0 else None\n",
        "print(industry_mode)"
      ],
      "metadata": {
        "colab": {
          "base_uri": "https://localhost:8080/"
        },
        "id": "HAWWp-gSoB-l",
        "outputId": "3998eaf4-9a03-4f95-9c60-a2578abaefbb"
      },
      "execution_count": 24,
      "outputs": [
        {
          "output_type": "stream",
          "name": "stdout",
          "text": [
            "retail\n"
          ]
        }
      ]
    },
    {
      "cell_type": "markdown",
      "source": [
        "### Question 2\n",
        "\n",
        "Create the [correlation matrix](https://www.google.com/search?q=correlation+matrix) for the numerical features of your dataset.\n",
        "In a correlation matrix, you compute the correlation coefficient between every pair of features.\n",
        "\n",
        "What are the two features that have the biggest correlation?\n",
        "\n",
        "- `interaction_count` and `lead_score`\n",
        "- `number_of_courses_viewed` and `lead_score`\n",
        "- `number_of_courses_viewed` and `interaction_count`\n",
        "- `annual_income` and `interaction_count`\n",
        "\n",
        "Only consider the pairs above when answering this question.\n",
        "\n",
        "### Split the data\n",
        "\n",
        "* Split your data in train/val/test sets with 60%/20%/20% distribution.\n",
        "* Use Scikit-Learn for that (the `train_test_split` function) and set the seed to `42`.\n",
        "* Make sure that the target value `y` is not in your dataframe."
      ],
      "metadata": {
        "id": "rz6GpdU4oShk"
      }
    },
    {
      "cell_type": "code",
      "source": [
        "# Compute correlation matrix for numerical features, visualize it, and answer which pair has highest correlation among given options.\n",
        "# Then split data into train/val/test 60/20/20 with seed 42, ensuring y is separated.\n",
        "\n",
        "import pandas as pd\n",
        "import numpy as np\n",
        "import matplotlib.pyplot as plt\n",
        "import seaborn as sns\n",
        "from sklearn.model_selection import train_test_split\n",
        "\n",
        "# Assume df_cls already loaded and imputed from previous step; if not, load it.\n",
        "try:\n",
        "    df_cls\n",
        "except NameError:\n",
        "    df_cls = pd.read_csv('course_lead_scoring.csv', encoding='ascii')\n",
        "    categorical_cols = df_cls.select_dtypes(include=['object']).columns.tolist()\n",
        "    numeric_cols = df_cls.select_dtypes(include=[np.number]).columns.tolist()\n",
        "    if len(categorical_cols) > 0:\n",
        "        df_cls[categorical_cols] = df_cls[categorical_cols].fillna('NA')\n",
        "    if len(numeric_cols) > 0:\n",
        "        df_cls[numeric_cols] = df_cls[numeric_cols].fillna(0.0)\n",
        "\n",
        "# Numerical features only (exclude target converted for the correlation among features)\n",
        "num_cols = df_cls.select_dtypes(include=[np.number]).columns.tolist()\n",
        "num_feature_cols = [c for c in num_cols if c != 'converted']\n",
        "\n",
        "corr_mat = df_cls[num_feature_cols].corr()\n",
        "print(corr_mat.head())"
      ],
      "metadata": {
        "colab": {
          "base_uri": "https://localhost:8080/"
        },
        "id": "lppajOfujr6X",
        "outputId": "82640855-ee81-44b0-cd3d-157dc663994a"
      },
      "execution_count": 9,
      "outputs": [
        {
          "output_type": "stream",
          "name": "stdout",
          "text": [
            "                          number_of_courses_viewed  annual_income  \\\n",
            "number_of_courses_viewed                  1.000000       0.009770   \n",
            "annual_income                             0.009770       1.000000   \n",
            "interaction_count                        -0.023565       0.027036   \n",
            "lead_score                               -0.004879       0.015610   \n",
            "\n",
            "                          interaction_count  lead_score  \n",
            "number_of_courses_viewed          -0.023565   -0.004879  \n",
            "annual_income                      0.027036    0.015610  \n",
            "interaction_count                  1.000000    0.009888  \n",
            "lead_score                         0.009888    1.000000  \n"
          ]
        }
      ]
    },
    {
      "cell_type": "code",
      "source": [
        "# Plot heatmap\n",
        "plt.figure(figsize=(5,4))\n",
        "sns.heatmap(corr_mat, annot=True, cmap='coolwarm', vmin=-1, vmax=1)\n",
        "plt.title('Correlation Matrix (Numerical Features)')\n",
        "plt.tight_layout()\n",
        "plt.show()\n",
        "\n",
        "# Evaluate correlations for specified pairs\n",
        "pairs = [\n",
        "    ('interaction_count','lead_score'),\n",
        "    ('number_of_courses_viewed','lead_score'),\n",
        "    ('number_of_courses_viewed','interaction_count'),\n",
        "    ('annual_income','interaction_count')\n",
        "]\n",
        "\n",
        "pair_corrs = {}\n",
        "for a,b in pairs:\n",
        "    if a in corr_mat.columns and b in corr_mat.columns:\n",
        "        pair_corrs[(a,b)] = corr_mat.loc[a,b]\n",
        "\n",
        "# Determine the pair with the largest absolute correlation\n",
        "best_pair = max(pair_corrs.items(), key=lambda kv: abs(kv[1]))\n",
        "print(best_pair[0])\n",
        "print(best_pair[1])"
      ],
      "metadata": {
        "colab": {
          "base_uri": "https://localhost:8080/",
          "height": 442
        },
        "id": "DgAl3Yptj7zA",
        "outputId": "e6af5a4f-6063-41c4-e887-17b6847ff9d3"
      },
      "execution_count": 10,
      "outputs": [
        {
          "output_type": "display_data",
          "data": {
            "text/plain": [
              "<Figure size 500x400 with 2 Axes>"
            ],
            "image/png": "[encoded data removed]"
          },
          "metadata": {}
        },
        {
          "output_type": "stream",
          "name": "stdout",
          "text": [
            "('annual_income', 'interaction_count')\n",
            "0.02703647240481443\n"
          ]
        }
      ]
    },
    {
      "cell_type": "code",
      "source": [
        "# Split data into X and y\n",
        "X_full = df_cls.drop(columns=['converted'])\n",
        "y = df_cls['converted']\n",
        "\n",
        "# First split train and temp (60/40)\n",
        "X_train, X_temp, y_train, y_temp = train_test_split(X_full, y, test_size=0.4, random_state=42, stratify=y)\n",
        "# Then split temp into val and test (50/50 of temp -> 20/20 overall)\n",
        "X_val, X_test, y_val, y_test = train_test_split(X_temp, y_temp, test_size=0.5, random_state=42, stratify=y_temp)\n",
        "\n",
        "# Show shapes\n",
        "print(X_train.shape)\n",
        "print(X_val.shape)\n",
        "print(X_test.shape)\n",
        "print(y_train.shape)\n",
        "print(y_val.shape)\n",
        "print(y_test.shape)"
      ],
      "metadata": {
        "colab": {
          "base_uri": "https://localhost:8080/"
        },
        "id": "Yk8y2dCROp_1",
        "outputId": "9d521fd3-f412-4ecf-a7ff-3d71e94b5984"
      },
      "execution_count": 11,
      "outputs": [
        {
          "output_type": "stream",
          "name": "stdout",
          "text": [
            "(877, 8)\n",
            "(292, 8)\n",
            "(293, 8)\n",
            "(877,)\n",
            "(292,)\n",
            "(293,)\n"
          ]
        }
      ]
    },
    {
      "cell_type": "markdown",
      "source": [
        "From the specified pairs, the largest correlation (by magnitude) is:\n",
        "('annual_income', 'interaction_count')\n",
        "\n",
        "Correlation value:\n",
        "0.02703647240481443\n",
        "\n",
        "Answer: annual_income and interaction_count\n",
        "\n",
        "Note: All given pairs are weakly correlated in this dataset, but annual_income and interaction_count are the largest among the options.\n",
        "\n",
        "Train/Val/Test split (60/20/20)\n",
        "I split the data with Scikit-Learn (seed 42), keeping the target y out of the features.\n",
        "\n",
        "Shapes of the splits (X then y):\n",
        "\n",
        "Train:\n",
        "(877, 8)\n",
        "\n",
        "(877,)\n",
        "\n",
        "Validation:\n",
        "(292, 8)\n",
        "\n",
        "(292,)\n",
        "\n",
        "Test:\n",
        "(293, 8)\n",
        "\n",
        "(293,)\n",
        "\n",
        "Acknowledgement: Computed correlation matrix, plotted it, selected the top pair among the provided options, and created 60/20/20 splits with y excluded from X."
      ],
      "metadata": {
        "id": "Djwr44dngkzI"
      }
    },
    {
      "cell_type": "markdown",
      "source": [
        "### Question 3\n",
        "\n",
        "* Calculate the mutual information score between `y` and other categorical variables in the dataset. Use the training set only.\n",
        "* Round the scores to 2 decimals using `round(score, 2)`.\n",
        "\n",
        "Which of these variables has the biggest mutual information score?\n",
        "  \n",
        "- `industry`\n",
        "- `location`\n",
        "- `lead_source`\n",
        "- `employment_status`"
      ],
      "metadata": {
        "id": "yf-tC2Eiow8p"
      }
    },
    {
      "cell_type": "code",
      "source": [
        "# The previous error indicates sklearn's OneHotEncoder in this environment uses 'sparse_output' instead of 'sparse'.\n",
        "# Fix by using sparse_output=False for newer sklearn, and fallback if needed. Re-run MI computation.\n",
        "\n",
        "import pandas as pd\n",
        "import numpy as np\n",
        "from sklearn.model_selection import train_test_split\n",
        "from sklearn.preprocessing import OneHotEncoder\n",
        "from sklearn.feature_selection import mutual_info_classif\n",
        "\n",
        "# Ensure data and splits\n",
        "try:\n",
        "    X_train\n",
        "    y_train\n",
        "except NameError:\n",
        "    df_cls = pd.read_csv('course_lead_scoring.csv', encoding='ascii')\n",
        "    categorical_cols = df_cls.select_dtypes(include=['object']).columns.tolist()\n",
        "    numeric_cols = df_cls.select_dtypes(include=[np.number]).columns.tolist()\n",
        "    if len(categorical_cols) > 0:\n",
        "        df_cls[categorical_cols] = df_cls[categorical_cols].fillna('NA')\n",
        "    if len(numeric_cols) > 0:\n",
        "        df_cls[numeric_cols] = df_cls[numeric_cols].fillna(0.0)\n",
        "    X_full = df_cls.drop(columns=['converted'])\n",
        "    y = df_cls['converted']\n",
        "    X_train, X_temp, y_train, y_temp = train_test_split(X_full, y, test_size=0.4, random_state=42, stratify=y)\n",
        "    X_val, X_test, y_val, y_test = train_test_split(X_temp, y_temp, test_size=0.5, random_state=42, stratify=y_temp)\n",
        "\n",
        "cat_cols_train = X_train.select_dtypes(include=['object']).columns.tolist()\n",
        "\n",
        "mi_scores = {}\n",
        "for col in cat_cols_train:\n",
        "    try:\n",
        "        enc = OneHotEncoder(handle_unknown='ignore', sparse_output=False)\n",
        "    except TypeError:\n",
        "        enc = OneHotEncoder(handle_unknown='ignore', sparse=False)\n",
        "    X_enc = enc.fit_transform(X_train[[col]])\n",
        "    mi = mutual_info_classif(X_enc, y_train, discrete_features=True, random_state=42)\n",
        "    mi_sum = float(np.sum(mi))\n",
        "    mi_scores[col] = round(mi_sum, 2)\n",
        "\n",
        "vars_of_interest = ['industry','location','lead_source','employment_status']\n",
        "for v in vars_of_interest:\n",
        "    print(v)\n",
        "    print(mi_scores.get(v, None))"
      ],
      "metadata": {
        "colab": {
          "base_uri": "https://localhost:8080/"
        },
        "id": "92WF5A7IV3I7",
        "outputId": "f714638d-f101-40e5-8a90-8733b4584958"
      },
      "execution_count": 12,
      "outputs": [
        {
          "output_type": "stream",
          "name": "stdout",
          "text": [
            "industry\n",
            "0.02\n",
            "location\n",
            "0.0\n",
            "lead_source\n",
            "0.03\n",
            "employment_status\n",
            "0.01\n"
          ]
        }
      ]
    },
    {
      "cell_type": "markdown",
      "source": [
        "Mutual Information (Train set, categorical features → y)\n",
        "Here are the mutual information scores (rounded to 2 decimals) between y and each categorical variable, computed on the training set only:\n",
        "\n",
        "industry: 0.02\n",
        "\n",
        "location: 0.0\n",
        "\n",
        "lead_source: 0.03\n",
        "\n",
        "employment_status: 0.01\n",
        "\n",
        "Answer: lead_source\n",
        "\n",
        "Quick note: Scores are small overall (dataset seems to have weak categorical signal for y), but lead_source has the largest MI among the provided options. Ack: computed MI on train set and rounded to 2 decimals."
      ],
      "metadata": {
        "id": "3aTexCzXWYiy"
      }
    },
    {
      "cell_type": "markdown",
      "source": [
        "### Question 4\n",
        "\n",
        "* Now let's train a logistic regression.\n",
        "* Remember that we have several categorical variables in the dataset. Include them using one-hot encoding.\n",
        "* Fit the model on the training dataset.\n",
        "    - To make sure the results are reproducible across different versions of Scikit-Learn, fit the model with these parameters:\n",
        "    - `model = LogisticRegression(solver='liblinear', C=1.0, max_iter=1000, random_state=42)`\n",
        "* Calculate the accuracy on the validation dataset and round it to 2 decimal digits.\n",
        "\n",
        "What accuracy did you get?\n",
        "\n",
        "- 0.64\n",
        "- 0.74\n",
        "- 0.84\n",
        "- 0.94"
      ],
      "metadata": {
        "id": "NgQweAE-o9S5"
      }
    },
    {
      "cell_type": "code",
      "source": [
        "# 4) SOLUTION\n",
        "# Train Logistic Regression with one-hot encoding for categoricals; evaluate on validation set and print rounded accuracy.\n",
        "# Uses previously created X_train, X_val, y_train, y_val; if missing, recreate from CSV.\n",
        "\n",
        "# This cell prepares data, builds a preprocessing pipeline, fits LogisticRegression, and evaluates accuracy.\n",
        "\n",
        "import pandas as pd\n",
        "import numpy as np\n",
        "from sklearn.model_selection import train_test_split\n",
        "from sklearn.compose import ColumnTransformer\n",
        "from sklearn.preprocessing import OneHotEncoder\n",
        "from sklearn.linear_model import LogisticRegression\n",
        "from sklearn.pipeline import Pipeline\n",
        "from sklearn.metrics import accuracy_score\n",
        "\n",
        "# Ensure splits exist\n",
        "try:\n",
        "    X_train\n",
        "    X_val\n",
        "    y_train\n",
        "    y_val\n",
        "except NameError:\n",
        "    df_cls = pd.read_csv('course_lead_scoring.csv', encoding='ascii')\n",
        "    categorical_cols = df_cls.select_dtypes(include=['object']).columns.tolist()\n",
        "    numeric_cols = df_cls.select_dtypes(include=[np.number]).columns.tolist()\n",
        "    if len(categorical_cols) > 0:\n",
        "        df_cls[categorical_cols] = df_cls[categorical_cols].fillna('NA')\n",
        "    if len(numeric_cols) > 0:\n",
        "        df_cls[numeric_cols] = df_cls[numeric_cols].fillna(0.0)\n",
        "    X_full = df_cls.drop(columns=['converted'])\n",
        "    y = df_cls['converted']\n",
        "    X_train, X_temp, y_train, y_temp = train_test_split(X_full, y, test_size=0.4, random_state=42, stratify=y)\n",
        "    X_val, X_test, y_val, y_test = train_test_split(X_temp, y_temp, test_size=0.5, random_state=42, stratify=y_temp)\n",
        "\n",
        "# Identify columns\n",
        "cat_cols = X_train.select_dtypes(include=['object']).columns.tolist()\n",
        "num_cols = X_train.select_dtypes(include=[np.number]).columns.tolist()\n",
        "\n",
        "# OneHotEncoder compatibility for sklearn versions\n",
        "try:\n",
        "    ohe = OneHotEncoder(handle_unknown='ignore', sparse_output=False)\n",
        "except TypeError:\n",
        "    ohe = OneHotEncoder(handle_unknown='ignore', sparse=False)\n",
        "\n",
        "preprocess = ColumnTransformer(\n",
        "    transformers=[\n",
        "        ('cat', ohe, cat_cols),\n",
        "        ('num', 'passthrough', num_cols)\n",
        "    ]\n",
        ")\n",
        "\n",
        "model = LogisticRegression(solver='liblinear', C=1.0, max_iter=1000, random_state=42)\n",
        "\n",
        "pipe = Pipeline(steps=[('prep', preprocess), ('model', model)])\n",
        "pipe.fit(X_train, y_train)\n",
        "\n",
        "# Validate\n",
        "y_val_pred = pipe.predict(X_val)\n",
        "acc = accuracy_score(y_val, y_val_pred)\n",
        "print(round(acc, 2))"
      ],
      "metadata": {
        "colab": {
          "base_uri": "https://localhost:8080/"
        },
        "id": "JaiOly7TWxGL",
        "outputId": "b9d2ad3f-c918-48a6-da79-ad8b184a64ca"
      },
      "execution_count": 13,
      "outputs": [
        {
          "output_type": "stream",
          "name": "stdout",
          "text": [
            "0.68\n"
          ]
        }
      ]
    },
    {
      "cell_type": "markdown",
      "source": [
        "Logistic Regression accuracy (with one-hot encoded categoricals)\n",
        "Here’s the validation accuracy from the logistic regression (trained on the training split, one-hot encoding for categoricals, and the specified sklearn parameters):\n",
        "0.68\n",
        "\n",
        "Interpretation: That rounds to 0.68, which isn’t one of the provided choices. The closest option is 0.64, but since we’re asked to round to 2 decimals, the correct rounded value from this run is 0.68.\n",
        "\n",
        "Assumptions made:\n",
        "\n",
        "Used the previously defined 60/20/20 splits with random_state=42.\n",
        "One-hot encoded all object-type columns; numeric columns were passed through.\n",
        "Filled categorical NaNs with NA and numeric NaNs with 0.0 (as in earlier steps)."
      ],
      "metadata": {
        "id": "3FqP7dq0Zs3k"
      }
    },
    {
      "cell_type": "markdown",
      "source": [
        "### Question 5\n",
        "\n",
        "* Let's find the least useful feature using the *feature elimination* technique.\n",
        "* Train a model using the same features and parameters as in Q4 (without rounding).\n",
        "* Now exclude each feature from this set and train a model without it. Record the accuracy for each model.\n",
        "* For each feature, calculate the difference between the original accuracy and the accuracy without the feature.\n",
        "\n",
        "Which of following feature has the smallest difference?\n",
        "\n",
        "- `'industry'`\n",
        "- `'employment_status'`\n",
        "- `'lead_score'`\n",
        "\n",
        "> **Note**: The difference doesn't have to be positive.\n"
      ],
      "metadata": {
        "id": "Dem97Q1KpQPa"
      }
    },
    {
      "cell_type": "code",
      "source": [
        "# 5)\n",
        "# Feature elimination by leave-one-feature-out using the same pipeline and params as Q4.\n",
        "# Compute base accuracy on validation, then drop each specified feature and recompute.\n",
        "\n",
        "import pandas as pd\n",
        "import numpy as np\n",
        "from sklearn.compose import ColumnTransformer\n",
        "from sklearn.preprocessing import OneHotEncoder\n",
        "from sklearn.linear_model import LogisticRegression\n",
        "from sklearn.pipeline import Pipeline\n",
        "from sklearn.metrics import accuracy_score\n",
        "\n",
        "# Ensure train/val splits exist; if not, load and split\n",
        "try:\n",
        "    X_train\n",
        "    X_val\n",
        "    y_train\n",
        "    y_val\n",
        "except NameError:\n",
        "    df_cls = pd.read_csv('course_lead_scoring.csv', encoding='ascii')\n",
        "    categorical_cols = df_cls.select_dtypes(include=['object']).columns.tolist()\n",
        "    numeric_cols = df_cls.select_dtypes(include=[np.number]).columns.tolist()\n",
        "    if len(categorical_cols) > 0:\n",
        "        df_cls[categorical_cols] = df_cls[categorical_cols].fillna('NA')\n",
        "    if len(numeric_cols) > 0:\n",
        "        df_cls[numeric_cols] = df_cls[numeric_cols].fillna(0.0)\n",
        "    X_full = df_cls.drop(columns=['converted'])\n",
        "    y = df_cls['converted']\n",
        "    from sklearn.model_selection import train_test_split\n",
        "    X_train, X_temp, y_train, y_temp = train_test_split(X_full, y, test_size=0.4, random_state=42, stratify=y)\n",
        "    X_val, X_test, y_val, y_test = train_test_split(X_temp, y_temp, test_size=0.5, random_state=42, stratify=y_temp)\n",
        "\n",
        "# Columns\n",
        "cat_cols = X_train.select_dtypes(include=['object']).columns.tolist()\n",
        "num_cols = X_train.select_dtypes(include=[np.number]).columns.tolist()\n",
        "\n",
        "# OHE compatibility\n",
        "try:\n",
        "    ohe = OneHotEncoder(handle_unknown='ignore', sparse_output=False)\n",
        "except TypeError:\n",
        "    ohe = OneHotEncoder(handle_unknown='ignore', sparse=False)\n",
        "\n",
        "preprocess = ColumnTransformer([\n",
        "    ('cat', ohe, cat_cols),\n",
        "    ('num', 'passthrough', num_cols)\n",
        "])\n",
        "\n",
        "model = LogisticRegression(solver='liblinear', C=1.0, max_iter=1000, random_state=42)\n",
        "pipe = Pipeline([('prep', preprocess), ('model', model)])\n",
        "pipe.fit(X_train, y_train)\n",
        "base_acc = accuracy_score(y_val, pipe.predict(X_val))\n",
        "\n",
        "features_to_test = ['industry','employment_status','lead_score']\n",
        "\n",
        "diffs = {}\n",
        "for f in features_to_test:\n",
        "    cols_drop = [c for c in X_train.columns if c != f]\n",
        "    X_tr = X_train[cols_drop]\n",
        "    X_v = X_val[cols_drop]\n",
        "    cat_cols_d = X_tr.select_dtypes(include=['object']).columns.tolist()\n",
        "    num_cols_d = X_tr.select_dtypes(include=[np.number]).columns.tolist()\n",
        "    try:\n",
        "        ohe_d = OneHotEncoder(handle_unknown='ignore', sparse_output=False)\n",
        "    except TypeError:\n",
        "        ohe_d = OneHotEncoder(handle_unknown='ignore', sparse=False)\n",
        "    preprocess_d = ColumnTransformer([\n",
        "        ('cat', ohe_d, cat_cols_d),\n",
        "        ('num', 'passthrough', num_cols_d)\n",
        "    ])\n",
        "    pipe_d = Pipeline([('prep', preprocess_d), ('model', model)])\n",
        "    pipe_d.fit(X_tr, y_train)\n",
        "    acc_d = accuracy_score(y_val, pipe_d.predict(X_v))\n",
        "    diffs[f] = base_acc - acc_d\n",
        "\n",
        "print(base_acc)\n",
        "for k in features_to_test:\n",
        "    print(k)\n",
        "    print(diffs[k])"
      ],
      "metadata": {
        "colab": {
          "base_uri": "https://localhost:8080/"
        },
        "id": "1qKFstbPawqF",
        "outputId": "c0cda9fc-a38e-4669-e6ff-d626b9c53580"
      },
      "execution_count": 14,
      "outputs": [
        {
          "output_type": "stream",
          "name": "stdout",
          "text": [
            "0.6815068493150684\n",
            "industry\n",
            "-0.006849315068493178\n",
            "employment_status\n",
            "0.0\n",
            "lead_score\n",
            "0.006849315068493067\n"
          ]
        }
      ]
    },
    {
      "cell_type": "markdown",
      "metadata": {
        "id": "f0816d6d"
      },
      "source": [
        "Question 5: Least useful feature via leave-one-feature-out\n",
        "Here are the results from training the same Logistic Regression as in Q4 and then dropping each feature one by one to measure the change in validation accuracy:\n",
        "\n",
        "Base validation accuracy:\n",
        "0.6815068493150684\n",
        "\n",
        "Difference when dropping each feature (base_acc - acc_without_feature):\n",
        "industry\n",
        "\n",
        "-0.006849315068493178\n",
        "\n",
        "employment_status\n",
        "\n",
        "0.0\n",
        "\n",
        "lead_score\n",
        "\n",
        "0.006849315068493067\n",
        "\n",
        "Answer\n",
        "The smallest difference is for employment_status.\n",
        "\n",
        "Notes:\n",
        "\n",
        "I used the same preprocessing (one-hot for categoricals, passthrough for numerics), same train/val split and model params as Q4.\n",
        "Differences can be negative; that indicates removing the feature slightly improved accuracy on the validation set."
      ]
    },
    {
      "cell_type": "markdown",
      "source": [
        "### Question 6\n",
        "\n",
        "* Now let's train a regularized logistic regression.\n",
        "* Let's try the following values of the parameter `C`: `[0.01, 0.1, 1, 10, 100]`.\n",
        "* Train models using all the features as in Q4.\n",
        "* Calculate the accuracy on the validation dataset and round it to 3 decimal digits.\n",
        "\n",
        "Which of these `C` leads to the best accuracy on the validation set?\n",
        "\n",
        "- 0.01\n",
        "- 0.1\n",
        "- 1\n",
        "- 10\n",
        "- 100\n",
        "\n",
        "> **Note**: If there are multiple options, select the smallest `C`."
      ],
      "metadata": {
        "id": "J3rPcuyEpaRc"
      }
    },
    {
      "cell_type": "code",
      "source": [
        "# 6) # Train Logistic Regression for multiple C values with same preprocessing as Q4; report validation accuracies rounded to 3 decimals.\n",
        "\n",
        "import pandas as pd\n",
        "import numpy as np\n",
        "from sklearn.model_selection import train_test_split\n",
        "from sklearn.compose import ColumnTransformer\n",
        "from sklearn.preprocessing import OneHotEncoder\n",
        "from sklearn.linear_model import LogisticRegression\n",
        "from sklearn.pipeline import Pipeline\n",
        "from sklearn.metrics import accuracy_score\n",
        "\n",
        "# Ensure data and splits exist\n",
        "try:\n",
        "    X_train\n",
        "    X_val\n",
        "    y_train\n",
        "    y_val\n",
        "except NameError:\n",
        "    df_cls = pd.read_csv('course_lead_scoring.csv', encoding='ascii')\n",
        "    categorical_cols = df_cls.select_dtypes(include=['object']).columns.tolist()\n",
        "    numeric_cols = df_cls.select_dtypes(include=[np.number]).columns.tolist()\n",
        "    if len(categorical_cols) > 0:\n",
        "        df_cls[categorical_cols] = df_cls[categorical_cols].fillna('NA')\n",
        "    if len(numeric_cols) > 0:\n",
        "        df_cls[numeric_cols] = df_cls[numeric_cols].fillna(0.0)\n",
        "    X_full = df_cls.drop(columns=['converted'])\n",
        "    y = df_cls['converted']\n",
        "    X_train, X_temp, y_train, y_temp = train_test_split(X_full, y, test_size=0.4, random_state=42, stratify=y)\n",
        "    X_val, X_test, y_val, y_test = train_test_split(X_temp, y_temp, test_size=0.5, random_state=42, stratify=y_temp)\n",
        "\n",
        "# Columns\n",
        "cat_cols = X_train.select_dtypes(include=['object']).columns.tolist()\n",
        "num_cols = X_train.select_dtypes(include=[np.number]).columns.tolist()\n",
        "\n",
        "# OHE compatibility\n",
        "try:\n",
        "    ohe = OneHotEncoder(handle_unknown='ignore', sparse_output=False)\n",
        "except TypeError:\n",
        "    ohe = OneHotEncoder(handle_unknown='ignore', sparse=False)\n",
        "\n",
        "preprocess = ColumnTransformer([\n",
        "    ('cat', ohe, cat_cols),\n",
        "    ('num', 'passthrough', num_cols)\n",
        "])\n",
        "\n",
        "Cs = [0.01, 0.1, 1, 10, 100]\n",
        "accs = []\n",
        "for c in Cs:\n",
        "    model = LogisticRegression(solver='liblinear', C=c, max_iter=1000, random_state=42)\n",
        "    pipe = Pipeline([('prep', preprocess), ('model', model)])\n",
        "    pipe.fit(X_train, y_train)\n",
        "    pred = pipe.predict(X_val)\n",
        "    acc = accuracy_score(y_val, pred)\n",
        "    accs.append(round(acc, 3))\n",
        "\n",
        "print(Cs)\n",
        "print(accs)\n"
      ],
      "metadata": {
        "colab": {
          "base_uri": "https://localhost:8080/"
        },
        "id": "aKWsG1GhgFsr",
        "outputId": "211a6863-8b83-4e13-9ca7-8d757caf6d4a"
      },
      "execution_count": 15,
      "outputs": [
        {
          "output_type": "stream",
          "name": "stdout",
          "text": [
            "[0.01, 0.1, 1, 10, 100]\n",
            "[0.688, 0.682, 0.682, 0.682, 0.682]\n"
          ]
        }
      ]
    },
    {
      "cell_type": "markdown",
      "source": [
        "Question 6: Regularized logistic regression (tuning C)\n",
        "Here are the C values I tried and their corresponding validation accuracies (rounded to 3 decimals):\n",
        "\n",
        "C values tried:\n",
        "[\n",
        "0.01\n",
        "0.1\n",
        "1\n",
        "10\n",
        "100\n",
        "]\n",
        "Accuracies:\n",
        "[\n",
        "0.688\n",
        "0.682\n",
        "0.682\n",
        "0.682\n",
        "0.682\n",
        "]\n",
        "The best accuracy is achieved at C = 0.01.\n",
        "\n",
        "Answer: 0.01"
      ],
      "metadata": {
        "id": "1QWbPWvSgxO_"
      }
    },
    {
      "cell_type": "code",
      "source": [],
      "metadata": {
        "id": "RqrHUkK7gzuZ"
      },
      "execution_count": null,
      "outputs": []
    }
  ]
}